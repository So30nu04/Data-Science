{
 "cells": [
  {
   "cell_type": "code",
   "execution_count": 2,
   "id": "e9fd2d05-3e2c-491a-ad10-b05e6d5aba7a",
   "metadata": {},
   "outputs": [
    {
     "name": "stdout",
     "output_type": "stream",
     "text": [
      "hello Data science world!!\n"
     ]
    }
   ],
   "source": [
    "print(\"hello Data science world!!\")"
   ]
  },
  {
   "cell_type": "code",
   "execution_count": 6,
   "id": "c3cc7819-2f92-4fab-adf5-852467c31ea8",
   "metadata": {},
   "outputs": [
    {
     "name": "stdout",
     "output_type": "stream",
     "text": [
      "sonu kumar\n"
     ]
    }
   ],
   "source": [
    "print(\"sonu kumar\")"
   ]
  },
  {
   "cell_type": "code",
   "execution_count": null,
   "id": "fb3853d2-5844-4741-971a-e6387588d14f",
   "metadata": {},
   "outputs": [],
   "source": []
  },
  {
   "cell_type": "code",
   "execution_count": 8,
   "id": "23b01aba-1892-4e42-bd9f-0929e1c2bd35",
   "metadata": {},
   "outputs": [
    {
     "data": {
      "text/plain": [
       "50"
      ]
     },
     "execution_count": 8,
     "metadata": {},
     "output_type": "execute_result"
    }
   ],
   "source": [
    "24+26"
   ]
  },
  {
   "cell_type": "code",
   "execution_count": null,
   "id": "654f73b1-ef77-474f-91d6-7601641511ae",
   "metadata": {},
   "outputs": [],
   "source": []
  },
  {
   "cell_type": "code",
   "execution_count": null,
   "id": "8b9297fd-76ff-428e-8b2f-12dd42d0ae7f",
   "metadata": {},
   "outputs": [],
   "source": []
  },
  {
   "cell_type": "code",
   "execution_count": 4,
   "id": "8e41c384-097d-4422-bf1e-dbd99dfadc64",
   "metadata": {},
   "outputs": [
    {
     "data": {
      "text/plain": [
       "5.0"
      ]
     },
     "execution_count": 4,
     "metadata": {},
     "output_type": "execute_result"
    }
   ],
   "source": [
    "25/5"
   ]
  }
 ],
 "metadata": {
  "kernelspec": {
   "display_name": "Python 3 (ipykernel)",
   "language": "python",
   "name": "python3"
  },
  "language_info": {
   "codemirror_mode": {
    "name": "ipython",
    "version": 3
   },
   "file_extension": ".py",
   "mimetype": "text/x-python",
   "name": "python",
   "nbconvert_exporter": "python",
   "pygments_lexer": "ipython3",
   "version": "3.11.7"
  }
 },
 "nbformat": 4,
 "nbformat_minor": 5
}
